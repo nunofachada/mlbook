{
 "cells": [
  {
   "cell_type": "code",
   "execution_count": null,
   "metadata": {},
   "outputs": [],
   "source": [
    "def findS(train: list[tuple[dict, bool]], H: dict) ->  dict:\n",
    "    # Initialize h to the most specific hypothesis in H\n",
    "    h = {key: None for key in H.keys()}\n",
    "\n",
    "    # For each positive training instance\n",
    "    for t in train:\n",
    "        if t[1]:\n",
    "            for a_i in t[0].keys():\n",
    "                \n",
    "\n",
    "\n",
    "    "
   ]
  }
 ],
 "metadata": {
  "kernelspec": {
   "display_name": "env",
   "language": "python",
   "name": "python3"
  },
  "language_info": {
   "name": "python",
   "version": "3.10.6"
  },
  "orig_nbformat": 4
 },
 "nbformat": 4,
 "nbformat_minor": 2
}
