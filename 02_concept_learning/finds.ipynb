{
 "cells": [
  {
   "cell_type": "code",
   "execution_count": 7,
   "metadata": {},
   "outputs": [],
   "source": [
    "from typing import Sequence\n",
    "import pandas as pd"
   ]
  },
  {
   "cell_type": "code",
   "execution_count": 8,
   "metadata": {},
   "outputs": [],
   "source": [
    "att_none = None\n",
    "att_any = \"\""
   ]
  },
  {
   "cell_type": "code",
   "execution_count": 9,
   "metadata": {},
   "outputs": [],
   "source": [
    "def findS(train: pd.DataFrame, outcome: str, H: dict[str, Sequence[str]]) ->  dict:\n",
    "\n",
    "    # Initialize h to the most specific hypothesis in H\n",
    "    h = {key: att_none for key in H.keys()}\n",
    "\n",
    "    # For each positive training instance x\n",
    "    for _, x in train.loc[train[outcome]].iterrows():\n",
    "\n",
    "        # Foreach attribute constrain a_i in h\n",
    "        for ak_i, av_i in h.items():\n",
    "\n",
    "            # If the constrain a_i is not satisfied by x...\n",
    "            if x[ak_i] != av_i:\n",
    "                # ...replace a_i in h by the next more general constraint that\n",
    "                # is satisfied by x\n",
    "                if h[ak_i] == att_none:\n",
    "                    h[ak_i] = x[ak_i]\n",
    "                elif h[ak_i] != att_any:\n",
    "                    h[ak_i] = att_any\n",
    "\n",
    "    # Output hypothesis h\n",
    "    return h"
   ]
  },
  {
   "cell_type": "code",
   "execution_count": 10,
   "metadata": {},
   "outputs": [
    {
     "data": {
      "text/html": [
       "<div>\n",
       "<style scoped>\n",
       "    .dataframe tbody tr th:only-of-type {\n",
       "        vertical-align: middle;\n",
       "    }\n",
       "\n",
       "    .dataframe tbody tr th {\n",
       "        vertical-align: top;\n",
       "    }\n",
       "\n",
       "    .dataframe thead th {\n",
       "        text-align: right;\n",
       "    }\n",
       "</style>\n",
       "<table border=\"1\" class=\"dataframe\">\n",
       "  <thead>\n",
       "    <tr style=\"text-align: right;\">\n",
       "      <th></th>\n",
       "      <th>sky</th>\n",
       "      <th>airtemp</th>\n",
       "      <th>humidity</th>\n",
       "      <th>wind</th>\n",
       "      <th>water</th>\n",
       "      <th>forecast</th>\n",
       "      <th>enjoysport</th>\n",
       "    </tr>\n",
       "  </thead>\n",
       "  <tbody>\n",
       "    <tr>\n",
       "      <th>0</th>\n",
       "      <td>sunny</td>\n",
       "      <td>warm</td>\n",
       "      <td>normal</td>\n",
       "      <td>strong</td>\n",
       "      <td>warm</td>\n",
       "      <td>same</td>\n",
       "      <td>True</td>\n",
       "    </tr>\n",
       "    <tr>\n",
       "      <th>1</th>\n",
       "      <td>sunny</td>\n",
       "      <td>warm</td>\n",
       "      <td>high</td>\n",
       "      <td>strong</td>\n",
       "      <td>warm</td>\n",
       "      <td>same</td>\n",
       "      <td>True</td>\n",
       "    </tr>\n",
       "    <tr>\n",
       "      <th>2</th>\n",
       "      <td>rainy</td>\n",
       "      <td>cold</td>\n",
       "      <td>high</td>\n",
       "      <td>strong</td>\n",
       "      <td>warm</td>\n",
       "      <td>change</td>\n",
       "      <td>False</td>\n",
       "    </tr>\n",
       "    <tr>\n",
       "      <th>3</th>\n",
       "      <td>sunny</td>\n",
       "      <td>warm</td>\n",
       "      <td>high</td>\n",
       "      <td>strong</td>\n",
       "      <td>cool</td>\n",
       "      <td>change</td>\n",
       "      <td>True</td>\n",
       "    </tr>\n",
       "  </tbody>\n",
       "</table>\n",
       "</div>"
      ],
      "text/plain": [
       "     sky airtemp humidity    wind water forecast  enjoysport\n",
       "0  sunny    warm   normal  strong  warm     same        True\n",
       "1  sunny    warm     high  strong  warm     same        True\n",
       "2  rainy    cold     high  strong  warm   change       False\n",
       "3  sunny    warm     high  strong  cool   change        True"
      ]
     },
     "execution_count": 10,
     "metadata": {},
     "output_type": "execute_result"
    }
   ],
   "source": [
    "df = pd.read_csv(\"../data/play_sport.csv\")\n",
    "\n",
    "df"
   ]
  },
  {
   "cell_type": "code",
   "execution_count": 11,
   "metadata": {},
   "outputs": [
    {
     "data": {
      "text/plain": [
       "{'sky': array(['sunny', 'rainy'], dtype=object),\n",
       " 'airtemp': array(['warm', 'cold'], dtype=object),\n",
       " 'humidity': array(['normal', 'high'], dtype=object),\n",
       " 'wind': array(['strong'], dtype=object),\n",
       " 'water': array(['warm', 'cool'], dtype=object),\n",
       " 'forecast': array(['same', 'change'], dtype=object)}"
      ]
     },
     "execution_count": 11,
     "metadata": {},
     "output_type": "execute_result"
    }
   ],
   "source": [
    "# Complete hypothesis space given training data\n",
    "attrs = df.keys().drop('enjoysport')\n",
    "H = {key: df[key].unique() for key in attrs}\n",
    "H"
   ]
  },
  {
   "cell_type": "code",
   "execution_count": 12,
   "metadata": {},
   "outputs": [
    {
     "data": {
      "text/plain": [
       "{'sky': 'sunny',\n",
       " 'airtemp': 'warm',\n",
       " 'humidity': '',\n",
       " 'wind': 'strong',\n",
       " 'water': '',\n",
       " 'forecast': ''}"
      ]
     },
     "execution_count": 12,
     "metadata": {},
     "output_type": "execute_result"
    }
   ],
   "source": [
    "# Obtain most general hypothesis with findS (one of possibly several equally general)\n",
    "h = findS(df, \"enjoysport\", H)\n",
    "\n",
    "h"
   ]
  }
 ],
 "metadata": {
  "kernelspec": {
   "display_name": "env",
   "language": "python",
   "name": "python3"
  },
  "language_info": {
   "codemirror_mode": {
    "name": "ipython",
    "version": 3
   },
   "file_extension": ".py",
   "mimetype": "text/x-python",
   "name": "python",
   "nbconvert_exporter": "python",
   "pygments_lexer": "ipython3",
   "version": "3.10.6"
  },
  "orig_nbformat": 4
 },
 "nbformat": 4,
 "nbformat_minor": 2
}
