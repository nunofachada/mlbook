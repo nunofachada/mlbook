{
 "cells": [
  {
   "cell_type": "code",
   "execution_count": 6,
   "metadata": {},
   "outputs": [],
   "source": [
    "import numpy as np\n",
    "from numpy import typing as npt\n",
    "from numpy import random as rnd\n",
    "from collections.abc import Callable, Sequence"
   ]
  },
  {
   "cell_type": "code",
   "execution_count": 7,
   "metadata": {},
   "outputs": [],
   "source": [
    "def sigm(x: float):\n",
    "    return 1.0 / (1 + np.exp(-x))\n",
    "\n",
    "vsigm = np.vectorize(sigm)\n"
   ]
  },
  {
   "cell_type": "code",
   "execution_count": 8,
   "metadata": {},
   "outputs": [],
   "source": [
    "def infer(input: npt.NDArray, nn: list[npt.NDArray]) -> list[npt.NDArray]:\n",
    "\n",
    "    output = [input]\n",
    "\n",
    "    for layer in range(len(nn)):\n",
    "        input = np.hstack((1, output[layer]))\n",
    "        output.append(vsigm(input @ nn[layer]))\n",
    "\n",
    "    return output\n"
   ]
  },
  {
   "cell_type": "code",
   "execution_count": 9,
   "metadata": {},
   "outputs": [],
   "source": [
    "def backprogation(train_input: npt.NDArray, train_output: npt.NDArray, topol: Sequence[int], iters: int, eta: float, seed: int=123):\n",
    "\n",
    "    rng = rnd.default_rng(seed)\n",
    "\n",
    "    # Create fully connected feed-forward network\n",
    "    nn = []\n",
    "    for i in range(len(topol) - 1):\n",
    "        nn.append(rng.uniform(low=-0.05, high=0.05, size=(topol[i] + 1, topol[i + 1])))\n",
    "    \n",
    "    # Train!\n",
    "    for _ in range(iters):\n",
    "\n",
    "        for i in range(train_input.shape[0]):\n",
    "\n",
    "            err = []\n",
    "\n",
    "            output = infer(train_input[i, :], nn)\n",
    "\n",
    "            err.insert(0, output[-1] * (1 - output[-1]) * (train_output[i, :] - output[-1]))\n",
    "\n",
    "            for layer in range(len(nn) - 1, -1, -1):\n",
    "                err.insert(0, output[layer] * (1 - output[layer]) * np.sum(nn[layer] * err))\n",
    "\n",
    "            for layer in range(len(nn)):\n",
    "                nn[layer] = nn[layer] + eta * err[layer] * output[layer]\n",
    "        \n",
    "\n",
    "    return nn"
   ]
  },
  {
   "cell_type": "code",
   "execution_count": 10,
   "metadata": {},
   "outputs": [
    {
     "data": {
      "text/plain": [
       "[array([ 1,  4, -3]),\n",
       " array([0.50391261, 0.44213056, 0.53986958, 0.44922074, 0.52440987]),\n",
       " array([0.49955201, 0.49659934])]"
      ]
     },
     "execution_count": 10,
     "metadata": {},
     "output_type": "execute_result"
    }
   ],
   "source": [
    "nn = backprogation(None, None, [3, 5, 2], 10, 0.01)\n",
    "\n",
    "\n",
    "\n",
    "infer(np.array([1,4,-3]), nn)"
   ]
  }
 ],
 "metadata": {
  "kernelspec": {
   "display_name": "env",
   "language": "python",
   "name": "python3"
  },
  "language_info": {
   "codemirror_mode": {
    "name": "ipython",
    "version": 3
   },
   "file_extension": ".py",
   "mimetype": "text/x-python",
   "name": "python",
   "nbconvert_exporter": "python",
   "pygments_lexer": "ipython3",
   "version": "3.10.6"
  },
  "orig_nbformat": 4
 },
 "nbformat": 4,
 "nbformat_minor": 2
}
